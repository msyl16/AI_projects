{
 "cells": [
  {
   "cell_type": "code",
   "execution_count": 1,
   "metadata": {},
   "outputs": [],
   "source": [
    "class Stack():\n",
    "\n",
    "    def __init__(self, msize):\n",
    "\n",
    "        self.data = [] # Erzeugung eines leeren Stacks\n",
    "        self.MaxStackSize = msize\n",
    "    \n",
    "    def empthy(self):\n",
    "        return len(self.data) == 0\n",
    "    \n",
    "    def full(self):\n",
    "        return len(self.data) == len(self.MaxStackSize)\n",
    "    \n",
    "    def pop(self):\n",
    "        if self.empthy():\n",
    "            return None\n",
    "        self.data.pop(-1)\n",
    "    \n",
    "    def push(self, x):\n",
    "        self.data.append(x)\n",
    "    \n",
    "    def top(self):\n",
    "        if self.empthy():\n",
    "            return None \n",
    "        else:\n",
    "            return self.data[-1]\n"
   ]
  },
  {
   "cell_type": "code",
   "execution_count": 2,
   "metadata": {},
   "outputs": [],
   "source": [
    "class Queue():\n",
    "\n",
    "    def __init__(self):\n",
    "        self.data = [] # Erzeugung einer leeren Schlange\n",
    "    \n",
    "    def empthy(self):\n",
    "        if len(self.data) > 0:\n",
    "            return False\n",
    "        return True\n",
    "    \n",
    "    def enter(self, element):\n",
    "        self.data.append(element)\n",
    "\n",
    "    def remove(self):\n",
    "        if self.empthy():\n",
    "            return None\n",
    "        return self.data.pop(0)\n",
    "    \n",
    "    def front(self): # gibt das älteste Element der Liste aus\n",
    "        if self.empthy():\n",
    "            return None\n",
    "        return self.data[0]\n",
    "    \n",
    "    def head(self):\n",
    "        if self.empthy():\n",
    "            return None\n",
    "        return self.data[-1]"
   ]
  },
  {
   "cell_type": "code",
   "execution_count": null,
   "metadata": {},
   "outputs": [],
   "source": []
  }
 ],
 "metadata": {
  "kernelspec": {
   "display_name": "Python 3",
   "language": "python",
   "name": "python3"
  },
  "language_info": {
   "codemirror_mode": {
    "name": "ipython",
    "version": 3
   },
   "file_extension": ".py",
   "mimetype": "text/x-python",
   "name": "python",
   "nbconvert_exporter": "python",
   "pygments_lexer": "ipython3",
   "version": "3.13.1"
  }
 },
 "nbformat": 4,
 "nbformat_minor": 2
}
